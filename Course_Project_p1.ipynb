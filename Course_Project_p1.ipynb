{
 "cells": [
  {
   "cell_type": "markdown",
   "id": "66ce9596",
   "metadata": {},
   "source": [
    "Individual proposals:\n",
    "\n",
    "Describe (a) the variables you plan to explore, and (b) the analysis you plan to perform\n",
    "\n",
    "Describe (a) the possible results your analysis may produce, and (b) how this could be relevant for the objectives of the course project\n",
    "\n",
    "Include your results if you have already completed an analysis"
   ]
  },
  {
   "cell_type": "markdown",
   "id": "213b4aeb",
   "metadata": {},
   "source": [
    "1.\n",
    "I plan to explore the number of social interactions males have, including visitng friends and family, as well as time and amount of people they talked to in a week, both online and in person. I want to compare these variables to their wellness, specifically things along the lines of Life satisfaction levels, as well as feelings associated with depression, such as hoplessness, burnout, or self value. I want to see if these values have any correlation. \n",
    "\n",
    "This comparison could go in multiple ways. It could show the difference in value between online and in person interactions, as well as showing how much connection to different groups could change ones life satisfaction (The difference between a strong family bond and a strong friend bond, or having neither, as well as having both). This is relevant to the objective of the course project as it shows stats that can be used in a community to possibly help with the problem of the uprise in male lonliness and high rates of depression, lack of expression, and high suicide rates.\n",
    "    "
   ]
  },
  {
   "cell_type": "markdown",
   "id": "8181185c",
   "metadata": {},
   "source": [
    "2.\n",
    "Similar to the first proposal, I want to look at how a sense of community can change ones perception of life. I want to look at variables such as being active in a job, part of a group in church, as well as any other communities people can be a part of. I want to compare these with both how much people feel deep connection with one another, as well as their own life satisfaction and other self-worth related statistics. \n",
    "\n",
    "This could show the importance of being involved in a community, and how some communities could be more valuable than others. One example could be the difference in deep connections that could arise from work against the deep connections that arise from being a part of a religion or actively attending a church or any other religious worship locations. This, similar to the first proposal, would be relevant for the objective of the course project, as it gives reasoning for many issues that my generation is facing with high rates of lonliness, lack of deep connections, and high rates of depression and suicide. It can explain reasons and ways that we as a community can help prevent these saddening situations."
   ]
  },
  {
   "cell_type": "markdown",
   "id": "6080ed81",
   "metadata": {},
   "source": [
    "3.\n",
    "The last proposal I have is to compare how ones physical pursuits can change their mental health. I want to compare peoples self rated physical health, as well as physical activity variables like hours of physical activity and physical hobbies such as going to the gym, with more non-physical related activities, like time spent on social media, hobbies such as video games, and less active lifestyles. I want to take the comparison of these two groups and compare their mental health evaluations, both their self reported mental health, as well as their self worth, lonliness, and other mental health problems.\n",
    "\n",
    "This comparison can show how different lifestyles can directly affect mental health, even unintentionally. One example could be having high amounts of physical activity may change mental health in a positive direction, or having more variety in your hobbies could affect your mental health, positively or negatively. This relates to the course project, as it directly gives back to the community in the knowledge of how what people chose to do with their time could indirectly lead them in a path of life they may or may not want."
   ]
  }
 ],
 "metadata": {
  "kernelspec": {
   "display_name": "Python 3 (ipykernel)",
   "language": "python",
   "name": "python3"
  },
  "language_info": {
   "codemirror_mode": {
    "name": "ipython",
    "version": 3
   },
   "file_extension": ".py",
   "mimetype": "text/x-python",
   "name": "python",
   "nbconvert_exporter": "python",
   "pygments_lexer": "ipython3",
   "version": "3.11.6"
  }
 },
 "nbformat": 4,
 "nbformat_minor": 5
}
