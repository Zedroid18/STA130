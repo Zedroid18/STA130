{
 "cells": [
  {
   "cell_type": "markdown",
   "id": "66ce9596",
   "metadata": {},
   "source": [
    "Individual proposals:\n",
    "\n",
    "Describe (a) the variables you plan to explore, and (b) the analysis you plan to perform\n",
    "\n",
    "Describe (a) the possible results your analysis may produce, and (b) how this could be relevant for the objectives of the course project\n",
    "\n",
    "Include your results if you have already completed an analysis"
   ]
  },
  {
   "cell_type": "markdown",
   "id": "213b4aeb",
   "metadata": {},
   "source": [
    "1.\n",
    "I plan to explore the number of close friends, frerquency of social hangouts, and self-reported satisfaction with social relationships. These variables will help me\n",
    "    "
   ]
  }
 ],
 "metadata": {
  "kernelspec": {
   "display_name": "Python 3 (ipykernel)",
   "language": "python",
   "name": "python3"
  },
  "language_info": {
   "codemirror_mode": {
    "name": "ipython",
    "version": 3
   },
   "file_extension": ".py",
   "mimetype": "text/x-python",
   "name": "python",
   "nbconvert_exporter": "python",
   "pygments_lexer": "ipython3",
   "version": "3.11.6"
  }
 },
 "nbformat": 4,
 "nbformat_minor": 5
}
